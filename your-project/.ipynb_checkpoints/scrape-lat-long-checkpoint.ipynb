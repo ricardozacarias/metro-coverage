{
 "cells": [
  {
   "cell_type": "code",
   "execution_count": 113,
   "metadata": {},
   "outputs": [],
   "source": [
    "# Scrape Lat and Long based on address"
   ]
  },
  {
   "cell_type": "code",
   "execution_count": 114,
   "metadata": {},
   "outputs": [],
   "source": [
    "import os\n",
    "import math\n",
    "import time\n",
    "from selenium import webdriver\n",
    "from selenium.webdriver.common.keys import Keys\n",
    "from selenium.webdriver.common.action_chains import ActionChains\n",
    "from selenium.webdriver.chrome.options import Options\n",
    "from getpass import getpass\n",
    "import csv\n",
    "import pandas as pd\n",
    "from tqdm import tqdm\n",
    "import numpy as np"
   ]
  },
  {
   "cell_type": "code",
   "execution_count": 115,
   "metadata": {},
   "outputs": [],
   "source": [
    "wdpath = 'C:/Users/Zaca/Documents/chromedriver/chromedriver'\n",
    "#driver = webdriver.PhantomJS()\n",
    "driver = webdriver.Chrome(wdpath)\n",
    "driver.get('https://getlatlong.net/')\n",
    "time.sleep(5)"
   ]
  },
  {
   "cell_type": "code",
   "execution_count": null,
   "metadata": {},
   "outputs": [
    {
     "name": "stderr",
     "output_type": "stream",
     "text": [
      "\n",
      "\n",
      "\n",
      "\n",
      "\n",
      "\n",
      "\n",
      "\n",
      "\n",
      "\n",
      "\n",
      "\n",
      "\n",
      "\n",
      "\n",
      "\n",
      "\n",
      "\n",
      "\n",
      "\n",
      "\n",
      "\n",
      "  0%|          | 0/43 [00:00<?, ?it/s]\n",
      "\n",
      "\n",
      "\n",
      "\n",
      "\n",
      "\n",
      "\n",
      "\n",
      "\n",
      "\n",
      "\n",
      "\n",
      "\n",
      "\n",
      "\n",
      "\n",
      "\n",
      "\n",
      "\n",
      "\n",
      "\n",
      "  2%|▏         | 1/43 [00:18<12:45, 18.23s/it]"
     ]
    }
   ],
   "source": [
    "data = pd.read_csv('C:/Users/Zaca/Documents/Datasets/padaria_portuguesa.txt', header = None, sep=';')\n",
    "addresses = data[0]\n",
    "latitudes = []\n",
    "longitudes = []\n",
    "\n",
    "for i in tqdm(range(len(addresses))):\n",
    "    \n",
    "    address_search = driver.find_elements_by_id('addr')\n",
    "    address_search[0].send_keys(addresses[i])\n",
    "\n",
    "    go_button = driver.find_element_by_class_name('btn')\n",
    "    go_button.click()\n",
    "    \n",
    "    driver.execute_script(\"window.scrollTo(0, 1080)\")\n",
    "    \n",
    "    time.sleep(5)\n",
    "    latbox = driver.find_elements_by_id('latbox')\n",
    "    lonbox = driver.find_elements_by_id('lonbox')\n",
    "    latitude = latbox[0].get_attribute(\"value\")\n",
    "    longitude = lonbox[0].get_attribute(\"value\")\n",
    "    \n",
    "    latitudes += [latitude]\n",
    "    longitudes += [longitude]\n",
    "    \n",
    "    driver.refresh()\n",
    "    time.sleep(10)\n",
    "        \n",
    "    "
   ]
  },
  {
   "cell_type": "code",
   "execution_count": null,
   "metadata": {},
   "outputs": [],
   "source": []
  },
  {
   "cell_type": "code",
   "execution_count": null,
   "metadata": {},
   "outputs": [],
   "source": []
  },
  {
   "cell_type": "code",
   "execution_count": null,
   "metadata": {},
   "outputs": [],
   "source": []
  }
 ],
 "metadata": {
  "kernelspec": {
   "display_name": "Python 3",
   "language": "python",
   "name": "python3"
  },
  "language_info": {
   "codemirror_mode": {
    "name": "ipython",
    "version": 3
   },
   "file_extension": ".py",
   "mimetype": "text/x-python",
   "name": "python",
   "nbconvert_exporter": "python",
   "pygments_lexer": "ipython3",
   "version": "3.7.4"
  }
 },
 "nbformat": 4,
 "nbformat_minor": 2
}
