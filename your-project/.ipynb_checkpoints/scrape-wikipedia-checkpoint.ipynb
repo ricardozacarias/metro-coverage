{
 "cells": [
  {
   "cell_type": "markdown",
   "metadata": {},
   "source": [
    "# Scrape Wikipedia"
   ]
  },
  {
   "cell_type": "code",
   "execution_count": 5,
   "metadata": {},
   "outputs": [],
   "source": [
    "from bs4 import BeautifulSoup\n",
    "import requests"
   ]
  },
  {
   "cell_type": "code",
   "execution_count": 2,
   "metadata": {},
   "outputs": [],
   "source": [
    "def response_and_soup(url):\n",
    "    \n",
    "    \"\"\"\n",
    "    Turns links into soup.\n",
    "    Input: URL to scrape\n",
    "    Output: the soup from BeautifulSoup package\n",
    "    \"\"\"\n",
    "    \n",
    "    # get response\n",
    "    response = requests.get(url)\n",
    "    print('Response code:', response.status_code)\n",
    "    \n",
    "    # cook soup\n",
    "    soup = BeautifulSoup(response.content, \"html.parser\")\n",
    "    \n",
    "    return soup\n"
   ]
  },
  {
   "cell_type": "code",
   "execution_count": 24,
   "metadata": {},
   "outputs": [
    {
     "name": "stdout",
     "output_type": "stream",
     "text": [
      "Response code: 200\n"
     ]
    }
   ],
   "source": [
    "url = 'https://en.wikipedia.org/wiki/List_of_Moscow_Metro_stations'\n",
    "\n",
    "soup = response_and_soup(url)"
   ]
  },
  {
   "cell_type": "code",
   "execution_count": 31,
   "metadata": {},
   "outputs": [],
   "source": [
    "location_text = [t.text for t in soup.find_all('span', {'class':'geo-dec'})]\n",
    "#latlong = [a['href'] for a in soup.find_all('a', {'class':'u-display_block'})]"
   ]
  },
  {
   "cell_type": "code",
   "execution_count": 32,
   "metadata": {},
   "outputs": [],
   "source": [
    "location_text = [s.replace('°', '').replace('N', '').replace('E', '').split(' ') for s in location_text]\n",
    "latlong = []\n",
    "for s in location_text:\n",
    "    latlong += [[float(x) for x in s]]   "
   ]
  },
  {
   "cell_type": "code",
   "execution_count": 36,
   "metadata": {},
   "outputs": [
    {
     "name": "stdout",
     "output_type": "stream",
     "text": [
      "Response code: 403\n"
     ]
    }
   ],
   "source": [
    "url = 'https://www.zomato.com/pt/grande-lisboa/restaurantes/a-padaria-portuguesa-cam%C3%B5es?page=2'\n",
    "soup = response_and_soup(url)"
   ]
  }
 ],
 "metadata": {
  "kernelspec": {
   "display_name": "Python 3",
   "language": "python",
   "name": "python3"
  },
  "language_info": {
   "codemirror_mode": {
    "name": "ipython",
    "version": 3
   },
   "file_extension": ".py",
   "mimetype": "text/x-python",
   "name": "python",
   "nbconvert_exporter": "python",
   "pygments_lexer": "ipython3",
   "version": "3.7.4"
  }
 },
 "nbformat": 4,
 "nbformat_minor": 2
}
